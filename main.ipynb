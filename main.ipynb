{
 "cells": [
  {
   "cell_type": "code",
   "execution_count": 38,
   "metadata": {},
   "outputs": [],
   "source": [
    "# Visualize\n",
    "from PIL import Image\n",
    "import matplotlib.pyplot as plt\n",
    "import matplotlib_inline\n",
    "%matplotlib inline\n",
    "\n",
    "class visual():\n",
    "    \n",
    "    def __init__(self, img, label):\n",
    "        self.img = img\n",
    "        self.label = label\n",
    "        print(f'Label is {label}')\n",
    "        plt.title(f'Label is: {label}')\n",
    "        plt.imshow(img,cmap='gray')\n",
    "        plt.show() "
   ]
  },
  {
   "attachments": {},
   "cell_type": "markdown",
   "metadata": {},
   "source": [
    "## Check library version\n",
    "* Python 3.6.7\n",
    "* PyTorch 1.1.0\n",
    "* torchvision 0.3.0\n",
    "* NumPy 1.15.4\n",
    "* Matplotlib 3.0.2"
   ]
  },
  {
   "cell_type": "code",
   "execution_count": 34,
   "metadata": {},
   "outputs": [
    {
     "name": "stdout",
     "output_type": "stream",
     "text": [
      "Check version\n",
      "Python version:3.8.16 (default, Jan 17 2023, 23:13:24) \n",
      "[GCC 11.2.0]\n",
      "torch version: 1.10.0\n",
      "torchvision version: 0.11.0\n",
      "Numpy version: 1.23.5\n",
      "Matplotlib version: 3.7.0\n",
      "-------------\n",
      "GPU Avilable\n",
      "Machine CUDA Aviailable: False\n",
      "How many device: 0\n"
     ]
    }
   ],
   "source": [
    "import torch \n",
    "import torchvision as TV\n",
    "import numpy as np\n",
    "import matplotlib as plt\n",
    "import sys\n",
    "\n",
    "print('Check version')\n",
    "print(f'Python version:{sys.version}')\n",
    "print(f'torch version: {torch.__version__}')\n",
    "print(f'torchvision version: {TV.__version__}')\n",
    "print(f'Numpy version: {np.__version__}')\n",
    "print(f'Matplotlib version: {plt.__version__}')\n",
    "print(\"-------------\")\n",
    "print('GPU Avilable')\n",
    "print(f'Machine CUDA Aviailable: {torch.cuda.is_available()}')\n",
    "print(f'How many device: {torch.cuda.device_count()}')"
   ]
  },
  {
   "attachments": {},
   "cell_type": "markdown",
   "metadata": {},
   "source": [
    "## Download Dataset"
   ]
  },
  {
   "cell_type": "code",
   "execution_count": 3,
   "metadata": {},
   "outputs": [],
   "source": [
    "from torchvision import datasets\n",
    "data_path = 'MNIST/raw/train-images-idx3-ubyte'\n",
    "mnist = datasets.MNIST(data_path, train=True, download=True)\n",
    "mnist_val = datasets.MNIST(data_path, train=False, download=True)"
   ]
  },
  {
   "cell_type": "code",
   "execution_count": 39,
   "metadata": {},
   "outputs": [
    {
     "name": "stdout",
     "output_type": "stream",
     "text": [
      "How many element60000\n",
      "Label is 3\n"
     ]
    },
    {
     "data": {
      "image/png": "[encoded data removed]",
      "text/plain": [
       "<Figure size 640x480 with 1 Axes>"
      ]
     },
     "metadata": {},
     "output_type": "display_data"
    },
    {
     "data": {
      "text/plain": [
       "<__main__.visual at 0x7f88b90ccc70>"
      ]
     },
     "execution_count": 39,
     "metadata": {},
     "output_type": "execute_result"
    }
   ],
   "source": [
    "# Check dataset class\n",
    "print(f'How many element: {len(mnist)}')\n",
    "\n",
    "# Visualize\n",
    "img, label = mnist[10]\n",
    "visual(img,label)"
   ]
  }
 ],
 "metadata": {
  "kernelspec": {
   "display_name": "open-mmlab",
   "language": "python",
   "name": "python3"
  },
  "language_info": {
   "codemirror_mode": {
    "name": "ipython",
    "version": 3
   },
   "file_extension": ".py",
   "mimetype": "text/x-python",
   "name": "python",
   "nbconvert_exporter": "python",
   "pygments_lexer": "ipython3",
   "version": "3.8.16"
  },
  "orig_nbformat": 4
 },
 "nbformat": 4,
 "nbformat_minor": 2
}
